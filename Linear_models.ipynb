{
  "nbformat": 4,
  "nbformat_minor": 0,
  "metadata": {
    "colab": {
      "name": "Linear models",
      "provenance": [],
      "collapsed_sections": [],
      "authorship_tag": "ABX9TyPgzkXw0sdwI0gUHDShaZMp",
      "include_colab_link": true
    },
    "kernelspec": {
      "name": "python3",
      "display_name": "Python 3"
    }
  },
  "cells": [
    {
      "cell_type": "markdown",
      "metadata": {
        "id": "view-in-github",
        "colab_type": "text"
      },
      "source": [
        "<a href=\"https://colab.research.google.com/github/dittaya/undergrad_ml/blob/master/Linear_models.ipynb\" target=\"_parent\"><img src=\"https://colab.research.google.com/assets/colab-badge.svg\" alt=\"Open In Colab\"/></a>"
      ]
    },
    {
      "cell_type": "markdown",
      "metadata": {
        "id": "rGra119Nq82g",
        "colab_type": "text"
      },
      "source": [
        "# Generate data"
      ]
    },
    {
      "cell_type": "code",
      "metadata": {
        "id": "sCoCaJZnq6dD",
        "colab_type": "code",
        "colab": {}
      },
      "source": [
        "import numpy as np\n",
        "import matplotlib.pyplot as plt"
      ],
      "execution_count": 1,
      "outputs": []
    },
    {
      "cell_type": "code",
      "metadata": {
        "id": "ZElKvH4ZrTxi",
        "colab_type": "code",
        "colab": {
          "base_uri": "https://localhost:8080/",
          "height": 282
        },
        "outputId": "a7971cea-f029-4a39-d421-36e74d4c6050"
      },
      "source": [
        "n_samples = 100\n",
        "\n",
        "X = np.random.uniform(low=-5, high=10, size=n_samples)\n",
        "Y = 2*(X + np.random.normal(loc=0, scale=2, size=n_samples)) + 3 * np.random.normal(loc=1, scale=1, size=n_samples)\n",
        "\n",
        "plt.scatter(X, Y)"
      ],
      "execution_count": 2,
      "outputs": [
        {
          "output_type": "execute_result",
          "data": {
            "text/plain": [
              "<matplotlib.collections.PathCollection at 0x7f8206d62940>"
            ]
          },
          "metadata": {
            "tags": []
          },
          "execution_count": 2
        },
        {
          "output_type": "display_data",
          "data": {
            "image/png": "[encoded data removed]",
            "text/plain": [
              "<Figure size 432x288 with 1 Axes>"
            ]
          },
          "metadata": {
            "tags": [],
            "needs_background": "light"
          }
        }
      ]
    },
    {
      "cell_type": "markdown",
      "metadata": {
        "id": "4anOwxFGsRWq",
        "colab_type": "text"
      },
      "source": [
        "# Linear regression"
      ]
    },
    {
      "cell_type": "markdown",
      "metadata": {
        "id": "5ebJIriCtTDu",
        "colab_type": "text"
      },
      "source": [
        "## Task 1: Linear least square regression โดยใช้ gradient descent\n",
        "\n",
        "จาก\n",
        "$y = w x + b$\n",
        "\n",
        "ปรับเล็กน้อยให้\n",
        "$\\boldsymbol{w}_b = (w, b)^T$ และ $\\boldsymbol{x}_b = (x, 1)^T$\n",
        "\n",
        "จะได้\n",
        "$$\n",
        "\\min_{\\boldsymbol{w}_n} L = \\min_{\\boldsymbol{w}_b} \\frac{1}{2} \\lVert (\\boldsymbol{X} \\boldsymbol{w}_b) - \\boldsymbol{y} \\rVert^2\n",
        "$$\n",
        "\n",
        "และ gradient เป็น\n",
        "\n",
        "$$\n",
        "\\nabla_{\\boldsymbol{w}_b} f(\\boldsymbol{w}_b) = \\boldsymbol{X}^T \\boldsymbol{X} \\boldsymbol{w}_b - \\boldsymbol{X}^T \\boldsymbol{y}\n",
        "$$\n"
      ]
    },
    {
      "cell_type": "markdown",
      "metadata": {
        "id": "X3XvPZdlw6px",
        "colab_type": "text"
      },
      "source": [
        "กำหนดค่าเริ่มต้น\n",
        "*   $\\boldsymbol{w}_b = (1, 1)^T$\n",
        "*   $\\epsilon = 0.0001$\n",
        "\n",
        "จงเขียนโปรแกรมเพื่อหา $w$ และ $b$ โดยใช้ gradient descent optimization เพื่อ minimize least square error ของ linear regression"
      ]
    },
    {
      "cell_type": "code",
      "metadata": {
        "id": "vp8_sDLtyRYz",
        "colab_type": "code",
        "colab": {}
      },
      "source": [
        "### YOUR CODE ###"
      ],
      "execution_count": null,
      "outputs": []
    },
    {
      "cell_type": "markdown",
      "metadata": {
        "id": "MU8cY_IA9MKj",
        "colab_type": "text"
      },
      "source": [
        "## Task Extra: MAP Linear regression\n",
        "\n",
        "จาก\n",
        "$$\n",
        "p(\\boldsymbol{w}_b\\mid \\boldsymbol{X}, \\boldsymbol{y})\n",
        "\\propto \\exp\n",
        "  \\left(\n",
        "      -\\frac{1}{2} (\\boldsymbol{w}_b - \\boldsymbol{\\mu}_m)^T \\boldsymbol{\\Lambda}_m^{-1} (\\boldsymbol{w}_b - \\boldsymbol{\\mu}_m)\n",
        "  \\right)\n",
        "$$\n",
        "และ\n",
        "$$\n",
        "\\boldsymbol{\\Lambda}_m = (\\boldsymbol{X}^T \\boldsymbol{X} + \\boldsymbol{\\Lambda}_0^{-1})^{-1}\n",
        "$$\n",
        "$$\n",
        "\\boldsymbol{\\mu}_m = \\boldsymbol{\\Lambda}_m ( \\boldsymbol{X}^T \\boldsymbol{y} + \\boldsymbol{\\Lambda}_0^{-1} \\boldsymbol{\\mu}_0)\n",
        "$$\n",
        "\n",
        "กำหนด\n",
        "- $p(y \\mid \\boldsymbol{x}_b; \\boldsymbol{w}_b) = \\mathcal{N}(y; \\hat{y}(\\boldsymbol{x}_b; \\boldsymbol{w}_b), \\sigma^2=\\boldsymbol{1})$\n",
        "- $p(\\boldsymbol{w}_b)\n",
        "= \\mathcal{N}\n",
        "  (w;\n",
        "  \\boldsymbol{\\mu}_0 = (0,0)^T,\n",
        "  \\boldsymbol{\\Lambda}_0 = \\begin{bmatrix}2 & 0 \\\\ 0 & 2\\end{bmatrix})\n",
        "  $\n",
        "\n",
        "จงเขียนโปรแกรมเพื่อคำนวณหา $w$ และ $b$\n",
        "\n"
      ]
    },
    {
      "cell_type": "code",
      "metadata": {
        "id": "0eZR1O-gL9t7",
        "colab_type": "code",
        "colab": {}
      },
      "source": [
        "### YOUR CODE ###"
      ],
      "execution_count": null,
      "outputs": []
    },
    {
      "cell_type": "markdown",
      "metadata": {
        "id": "MGUJT7P36IH2",
        "colab_type": "text"
      },
      "source": [
        "## Task 2: sklearn\n",
        "\n",
        "- https://scikit-learn.org/stable/modules/generated/sklearn.linear_model.LinearRegression.html\n",
        "\n",
        "ใช้ `LinearRegression` ใน `sklearn` เพื่อหา $w$ และ $b$"
      ]
    },
    {
      "cell_type": "code",
      "metadata": {
        "id": "xZO2aC2t4msG",
        "colab_type": "code",
        "colab": {}
      },
      "source": [
        "from sklearn.linear_model import LinearRegression"
      ],
      "execution_count": null,
      "outputs": []
    },
    {
      "cell_type": "code",
      "metadata": {
        "id": "82Nm_25o8oEh",
        "colab_type": "code",
        "colab": {}
      },
      "source": [
        ""
      ],
      "execution_count": null,
      "outputs": []
    }
  ]
}