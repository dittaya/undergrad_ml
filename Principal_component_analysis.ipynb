{
  "nbformat": 4,
  "nbformat_minor": 0,
  "metadata": {
    "colab": {
      "name": "Principal component analysis",
      "provenance": [],
      "authorship_tag": "ABX9TyMVL7+O/L9HqsEqobjhgX93",
      "include_colab_link": true
    },
    "kernelspec": {
      "name": "python3",
      "display_name": "Python 3"
    }
  },
  "cells": [
    {
      "cell_type": "markdown",
      "metadata": {
        "id": "view-in-github",
        "colab_type": "text"
      },
      "source": [
        "<a href=\"https://colab.research.google.com/github/dittaya/undergrad_ml/blob/master/Principal_component_analysis.ipynb\" target=\"_parent\"><img src=\"https://colab.research.google.com/assets/colab-badge.svg\" alt=\"Open In Colab\"/></a>"
      ]
    },
    {
      "cell_type": "markdown",
      "metadata": {
        "id": "bMS1Hu0KbjOk",
        "colab_type": "text"
      },
      "source": [
        "# Principal component analysis"
      ]
    },
    {
      "cell_type": "markdown",
      "metadata": {
        "id": "2MRtU2bdc9gp",
        "colab_type": "text"
      },
      "source": [
        "## เตรียมข้อมูล\n",
        "\n",
        "- https://numpy.org/doc/stable/reference/random/generated/numpy.random.normal.html"
      ]
    },
    {
      "cell_type": "code",
      "metadata": {
        "id": "IInm-qBzc6xK",
        "colab_type": "code",
        "colab": {}
      },
      "source": [
        "import numpy as np\n",
        "import matplotlib.pyplot as plt"
      ],
      "execution_count": 1,
      "outputs": []
    },
    {
      "cell_type": "code",
      "metadata": {
        "id": "49A2twiLdNxA",
        "colab_type": "code",
        "colab": {}
      },
      "source": [
        "n_samples = 1000\n",
        "mu = [2,1]\n",
        "sigma = [4, 1]  # the first component is the principal component\n",
        "X = np.random.normal(loc=mu, scale=sigma, size=(1000,2))\n",
        "transform = np.array([[2, 1], [1,2]]) # rotate all axes\n",
        "X = np.matmul(X, transform).T # column vectors\n"
      ],
      "execution_count": 2,
      "outputs": []
    },
    {
      "cell_type": "code",
      "metadata": {
        "id": "TGySImxHf-6-",
        "colab_type": "code",
        "colab": {
          "base_uri": "https://localhost:8080/",
          "height": 265
        },
        "outputId": "c576c7ec-2866-4e7e-b0e8-9c21667a98a7"
      },
      "source": [
        "plt.scatter(X[0,:], X[1,:], marker='x')\n",
        "plt.show()"
      ],
      "execution_count": 3,
      "outputs": [
        {
          "output_type": "display_data",
          "data": {
            "image/png": "[encoded data removed]",
            "text/plain": [
              "<Figure size 432x288 with 1 Axes>"
            ]
          },
          "metadata": {
            "tags": [],
            "needs_background": "light"
          }
        }
      ]
    },
    {
      "cell_type": "markdown",
      "metadata": {
        "id": "YjMC0kOnb69G",
        "colab_type": "text"
      },
      "source": [
        "จากเลกเชอร์เรื่อง PCA และ SVD ลองใช้ numpy เพื่อ implement PCA/SVD ดู"
      ]
    },
    {
      "cell_type": "markdown",
      "metadata": {
        "id": "YLw4WTmRcN-0",
        "colab_type": "text"
      },
      "source": [
        "## PCA\n",
        "\n",
        "แกนหลัก (principal component) คือแกน eigen ของข้อมูล\n",
        "- https://numpy.org/doc/stable/reference/generated/numpy.linalg.eig.html\n",
        "\n"
      ]
    },
    {
      "cell_type": "markdown",
      "metadata": {
        "id": "Lr48_dip1EsL",
        "colab_type": "text"
      },
      "source": [
        "### Task 1\n",
        "\n",
        "ใช้ numpy เพื่อหา principal component โดยใช้ eigendecomposition\n",
        "\n",
        "*Hint: ลองอ่านหนังสือดูอีกที ว่าต้องหา eigendecomposition ของ matrix อะไร*"
      ]
    },
    {
      "cell_type": "code",
      "metadata": {
        "id": "xepPRda30v4g",
        "colab_type": "code",
        "colab": {}
      },
      "source": [
        "### YOUR CODE HERE"
      ],
      "execution_count": null,
      "outputs": []
    },
    {
      "cell_type": "markdown",
      "metadata": {
        "id": "Np-ur6NkzpCX",
        "colab_type": "text"
      },
      "source": [
        "## SVD\n",
        "\n",
        "- https://numpy.org/doc/stable/reference/generated/numpy.linalg.svd.html"
      ]
    },
    {
      "cell_type": "markdown",
      "metadata": {
        "id": "iSL-Vvin1eCp",
        "colab_type": "text"
      },
      "source": [
        "### Task 2\n",
        "\n",
        "ใช้ numpy ทำ singular value decomposition ของข้อมูล แล้วหาแกนหลักของข้อมูล"
      ]
    },
    {
      "cell_type": "code",
      "metadata": {
        "id": "1CGIx56RzobW",
        "colab_type": "code",
        "colab": {}
      },
      "source": [
        "### YOUR CODE HERE"
      ],
      "execution_count": null,
      "outputs": []
    },
    {
      "cell_type": "markdown",
      "metadata": {
        "id": "ycmpF-Kyb97R",
        "colab_type": "text"
      },
      "source": [
        "## scikit-learn\n",
        "\n",
        "- https://scikit-learn.org/stable/modules/generated/sklearn.decomposition.PCA.html"
      ]
    },
    {
      "cell_type": "markdown",
      "metadata": {
        "id": "Hw1HjXBocANY",
        "colab_type": "text"
      },
      "source": [
        "### Task 3\n",
        "\n",
        "เรียกใช้ PCA ใน scikit-learn เปรียบเทียบแกนหลักที่ได้จาก task 1 และ task 2"
      ]
    },
    {
      "cell_type": "code",
      "metadata": {
        "id": "QvTNWxlOb_Zj",
        "colab_type": "code",
        "colab": {}
      },
      "source": [
        "from sklearn.decomposition import PCA"
      ],
      "execution_count": null,
      "outputs": []
    },
    {
      "cell_type": "code",
      "metadata": {
        "id": "WZbu74KGpUSH",
        "colab_type": "code",
        "colab": {}
      },
      "source": [
        "### YOUR CODE HERE"
      ],
      "execution_count": null,
      "outputs": []
    },
    {
      "cell_type": "markdown",
      "metadata": {
        "id": "_uXVLcVg2FTp",
        "colab_type": "text"
      },
      "source": [
        "ส่งไฟล์ notebook / link ไปยัง colab ใน MS Teams"
      ]
    }
  ]
}